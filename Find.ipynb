{
 "cells": [
  {
   "cell_type": "code",
   "execution_count": 17,
   "metadata": {},
   "outputs": [
    {
     "data": {
      "text/plain": [
       "'C:\\\\Users\\\\ayush\\\\Beats Compiler\\\\B'"
      ]
     },
     "execution_count": 17,
     "metadata": {},
     "output_type": "execute_result"
    }
   ],
   "source": [
    "pwd"
   ]
  },
  {
   "cell_type": "code",
   "execution_count": 18,
   "metadata": {},
   "outputs": [
    {
     "name": "stdout",
     "output_type": "stream",
     "text": [
      "C:\\Users\\ayush\\Beats Compiler\\B\n"
     ]
    }
   ],
   "source": [
    "cd C:\\\\Users\\\\ayush\\\\Beats Compiler\\\\B"
   ]
  },
  {
   "cell_type": "code",
   "execution_count": null,
   "metadata": {},
   "outputs": [],
   "source": []
  },
  {
   "cell_type": "code",
   "execution_count": null,
   "metadata": {},
   "outputs": [],
   "source": []
  },
  {
   "cell_type": "code",
   "execution_count": null,
   "metadata": {},
   "outputs": [],
   "source": []
  },
  {
   "cell_type": "code",
   "execution_count": null,
   "metadata": {},
   "outputs": [],
   "source": []
  },
  {
   "cell_type": "code",
   "execution_count": null,
   "metadata": {},
   "outputs": [],
   "source": []
  },
  {
   "cell_type": "code",
   "execution_count": 51,
   "metadata": {},
   "outputs": [
    {
     "name": "stdout",
     "output_type": "stream",
     "text": [
      ".............This is a program used for beat detection................\n"
     ]
    }
   ],
   "source": [
    "import librosa\n",
    "import IPython.display as ipd\n",
    "#help(librosa.beat)\n",
    "print(format('.............This is a program used for beat detection................','^40'))\n",
    "#reding the audio\n",
    "y, sr = librosa.load('C:\\\\Users\\\\ayush\\\\Downloads\\\\sample.wav')"
   ]
  },
  {
   "cell_type": "code",
   "execution_count": 23,
   "metadata": {},
   "outputs": [
    {
     "name": "stderr",
     "output_type": "stream",
     "text": [
      "C:\\ProgramData\\Anaconda3\\lib\\site-packages\\scipy\\fftpack\\basic.py:160: FutureWarning: Using a non-tuple sequence for multidimensional indexing is deprecated; use `arr[tuple(seq)]` instead of `arr[seq]`. In the future this will be interpreted as an array index, `arr[np.array(seq)]`, which will result either in an error or a different result.\n",
      "  z[index] = x\n"
     ]
    },
    {
     "name": "stdout",
     "output_type": "stream",
     "text": [
      "123.046875\n",
      "[  48   69   90  112  133  154  175  197  219  240  262  283  304  325\n",
      "  346  368  389  411  433  454  475  496  517  539  561  582  603  624\n",
      "  646  667  688  710  731  753  774  795  817  838  860  881  902  924\n",
      "  945  966  988 1009 1031 1052 1073 1095 1116 1137 1159 1180 1201 1223\n",
      " 1244 1266 1287 1308 1330 1351 1372 1393 1415]\n"
     ]
    }
   ],
   "source": [
    "#finding the beat location\n",
    "bpm , beat_locations = librosa.beat.beat_track(y = time_series , sr = sample_rate)\n",
    "print(bpm)\n",
    "print(beat_locations)\n"
   ]
  },
  {
   "cell_type": "code",
   "execution_count": null,
   "metadata": {},
   "outputs": [],
   "source": []
  },
  {
   "cell_type": "code",
   "execution_count": null,
   "metadata": {},
   "outputs": [],
   "source": []
  },
  {
   "cell_type": "code",
   "execution_count": 31,
   "metadata": {},
   "outputs": [
    {
     "name": "stderr",
     "output_type": "stream",
     "text": [
      "C:\\ProgramData\\Anaconda3\\lib\\site-packages\\scipy\\fftpack\\basic.py:160: FutureWarning: Using a non-tuple sequence for multidimensional indexing is deprecated; use `arr[tuple(seq)]` instead of `arr[seq]`. In the future this will be interpreted as an array index, `arr[np.array(seq)]`, which will result either in an error or a different result.\n",
      "  z[index] = x\n"
     ]
    }
   ],
   "source": [
    " tempo, beats = librosa.beat.beat_track(y=y, sr=sr)"
   ]
  },
  {
   "cell_type": "code",
   "execution_count": 33,
   "metadata": {},
   "outputs": [
    {
     "data": {
      "text/plain": [
       "123.046875"
      ]
     },
     "execution_count": 33,
     "metadata": {},
     "output_type": "execute_result"
    }
   ],
   "source": [
    "tempo"
   ]
  },
  {
   "cell_type": "code",
   "execution_count": 34,
   "metadata": {},
   "outputs": [
    {
     "data": {
      "text/plain": [
       "array([ 48,  69,  90, 112, 133, 154, 175, 197, 219, 240, 262, 283, 304,\n",
       "       325, 346, 368, 389, 411, 433, 454])"
      ]
     },
     "execution_count": 34,
     "metadata": {},
     "output_type": "execute_result"
    }
   ],
   "source": [
    "beats[:20]"
   ]
  },
  {
   "cell_type": "code",
   "execution_count": 35,
   "metadata": {},
   "outputs": [
    {
     "data": {
      "text/plain": [
       "array([ 1.11455782,  1.60217687,  2.08979592,  2.60063492,  3.08825397,\n",
       "        3.57587302,  4.06349206,  4.57433107,  5.08517007,  5.57278912,\n",
       "        6.08362812,  6.57124717,  7.05886621,  7.54648526,  8.03410431,\n",
       "        8.54494331,  9.03256236,  9.54340136, 10.05424036, 10.54185941])"
      ]
     },
     "execution_count": 35,
     "metadata": {},
     "output_type": "execute_result"
    }
   ],
   "source": [
    "librosa.frames_to_time(beats[:20], sr=sr) #printing it in the time format"
   ]
  },
  {
   "cell_type": "code",
   "execution_count": 44,
   "metadata": {},
   "outputs": [],
   "source": [
    "onset_env = librosa.onset.onset_strength(y, sr=sr,aggregate=np.median) #tracking the beats"
   ]
  },
  {
   "cell_type": "code",
   "execution_count": 45,
   "metadata": {},
   "outputs": [
    {
     "name": "stderr",
     "output_type": "stream",
     "text": [
      "C:\\ProgramData\\Anaconda3\\lib\\site-packages\\scipy\\fftpack\\basic.py:160: FutureWarning: Using a non-tuple sequence for multidimensional indexing is deprecated; use `arr[tuple(seq)]` instead of `arr[seq]`. In the future this will be interpreted as an array index, `arr[np.array(seq)]`, which will result either in an error or a different result.\n",
      "  z[index] = x\n"
     ]
    }
   ],
   "source": [
    "tempo, beats = librosa.beat.beat_track(onset_envelope=onset_env,sr=sr)"
   ]
  },
  {
   "cell_type": "code",
   "execution_count": 46,
   "metadata": {},
   "outputs": [
    {
     "data": {
      "text/plain": [
       "123.046875"
      ]
     },
     "execution_count": 46,
     "metadata": {},
     "output_type": "execute_result"
    }
   ],
   "source": [
    "tempo"
   ]
  },
  {
   "cell_type": "code",
   "execution_count": 47,
   "metadata": {},
   "outputs": [
    {
     "data": {
      "text/plain": [
       "array([ 48,  69,  90, 112, 133, 154, 175, 197, 219, 240, 262, 283, 304,\n",
       "       325, 346, 368, 389, 411, 433, 454])"
      ]
     },
     "execution_count": 47,
     "metadata": {},
     "output_type": "execute_result"
    }
   ],
   "source": [
    "beats[:20] #seeing the first 20 beats"
   ]
  },
  {
   "cell_type": "code",
   "execution_count": 43,
   "metadata": {},
   "outputs": [
    {
     "data": {
      "image/png": "[encoded data removed]",
      "text/plain": [
       "<Figure size 576x288 with 1 Axes>"
      ]
     },
     "metadata": {
      "needs_background": "light"
     },
     "output_type": "display_data"
    }
   ],
   "source": [
    "import matplotlib.pyplot as plt\n",
    "hop_length = 512\n",
    "plt.figure(figsize=(8, 4))\n",
    "times = librosa.frames_to_time(np.arange(len(onset_env)),sr=sr, hop_length=hop_length)\n",
    "plt.plot(times, librosa.util.normalize(onset_env), label='Onset strength')\n",
    "plt.vlines(times[beats], 0, 1, alpha=0.5, color='r', linestyle='--', label='Beats')\n",
    "plt.legend(frameon=True, framealpha=0.75)\n",
    "# Limit the plot to a 15-second window\n",
    "plt.xlim(15, 30)\n",
    "plt.gca().xaxis.set_major_formatter(librosa.display.TimeFormatter())\n",
    "plt.tight_layout()"
   ]
  },
  {
   "cell_type": "code",
   "execution_count": null,
   "metadata": {},
   "outputs": [],
   "source": []
  }
 ],
 "metadata": {
  "kernelspec": {
   "display_name": "Python 3",
   "language": "python",
   "name": "python3"
  },
  "language_info": {
   "codemirror_mode": {
    "name": "ipython",
    "version": 3
   },
   "file_extension": ".py",
   "mimetype": "text/x-python",
   "name": "python",
   "nbconvert_exporter": "python",
   "pygments_lexer": "ipython3",
   "version": "3.7.0"
  }
 },
 "nbformat": 4,
 "nbformat_minor": 2
}
